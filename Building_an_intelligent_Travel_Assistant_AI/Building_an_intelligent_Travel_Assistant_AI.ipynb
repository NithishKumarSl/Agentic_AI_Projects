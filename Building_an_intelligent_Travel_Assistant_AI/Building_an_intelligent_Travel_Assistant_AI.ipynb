{
  "nbformat": 4,
  "nbformat_minor": 0,
  "metadata": {
    "colab": {
      "provenance": []
    },
    "kernelspec": {
      "name": "python3",
      "display_name": "Python 3"
    },
    "language_info": {
      "name": "python"
    }
  },
  "cells": [
    {
      "cell_type": "code",
      "execution_count": 1,
      "metadata": {
        "colab": {
          "base_uri": "https://localhost:8080/",
          "height": 650
        },
        "id": "kVYQbb_u6cJH",
        "outputId": "5e856a19-06de-4763-dee8-e1a14d19c12d"
      },
      "outputs": [
        {
          "output_type": "stream",
          "name": "stdout",
          "text": [
            "It looks like you are running Gradio on a hosted a Jupyter notebook. For the Gradio app to work, sharing must be enabled. Automatically setting `share=True` (you can turn this off by setting `share=False` in `launch()` explicitly).\n",
            "\n",
            "Colab notebook detected. To show errors in colab notebook, set debug=True in launch()\n",
            "* Running on public URL: https://66516c1f16d93a9cc8.gradio.live\n",
            "\n",
            "This share link expires in 1 week. For free permanent hosting and GPU upgrades, run `gradio deploy` from the terminal in the working directory to deploy to Hugging Face Spaces (https://huggingface.co/spaces)\n"
          ]
        },
        {
          "output_type": "display_data",
          "data": {
            "text/plain": [
              "<IPython.core.display.HTML object>"
            ],
            "text/html": [
              "<div><iframe src=\"https://66516c1f16d93a9cc8.gradio.live\" width=\"100%\" height=\"500\" allow=\"autoplay; camera; microphone; clipboard-read; clipboard-write;\" frameborder=\"0\" allowfullscreen></iframe></div>"
            ]
          },
          "metadata": {}
        },
        {
          "output_type": "execute_result",
          "data": {
            "text/plain": []
          },
          "metadata": {},
          "execution_count": 1
        }
      ],
      "source": [
        "import os\n",
        "import requests\n",
        "import gradio as gr\n",
        "from dotenv import load_dotenv\n",
        "from langchain.tools import tool\n",
        "from langchain_google_genai import ChatGoogleGenerativeAI\n",
        "from langchain.agents import create_tool_calling_agent, AgentExecutor\n",
        "from langchain.prompts import ChatPromptTemplate\n",
        "from langchain_community.tools import DuckDuckGoSearchRun\n",
        "\n",
        "# ----- Load or set your API keys -----\n",
        "GOOGLE_API_KEY = os.getenv(\"GOOGLE_API_KEY\")\n",
        "WEATHER_API_KEY = os.getenv(\"WEATHER_API_KEY\")  # Your key provided\n",
        "\n",
        "# ----- Gemini Setup -----\n",
        "llm = ChatGoogleGenerativeAI(\n",
        "    model=\"gemini-1.5-flash\",\n",
        "    temperature=0.2,\n",
        "    google_api_key=GOOGLE_API_KEY,\n",
        "    convert_system_message_to_human=True\n",
        ")\n",
        "\n",
        "# ----- Web Search Tool -----\n",
        "search_tool = DuckDuckGoSearchRun()\n",
        "\n",
        "# ----- Weather Tool -----\n",
        "@tool\n",
        "def get_weather_forecast(city: str) -> str:\n",
        "    \"\"\"\n",
        "    Provides current and forecast weather info for a city.\n",
        "    \"\"\"\n",
        "    try:\n",
        "        response = requests.get(\n",
        "            \"http://api.weatherapi.com/v1/forecast.json\",\n",
        "            params={\"key\": WEATHER_API_KEY, \"q\": city, \"days\": 3, \"aqi\": \"no\", \"alerts\": \"no\"}\n",
        "        )\n",
        "        response.raise_for_status()\n",
        "        data = response.json()\n",
        "        current = data[\"current\"]\n",
        "        location = data[\"location\"]\n",
        "        forecast = data[\"forecast\"][\"forecastday\"]\n",
        "\n",
        "        message = f\"🌤️ Weather in {location['name']}, {location['country']}:\\n\\n\"\n",
        "        message += f\"📍 Temperature: {current['temp_c']}°C | Feels Like: {current['feelslike_c']}°C\\n\"\n",
        "        message += f\"💧 Humidity: {current['humidity']}% | 💨 Wind: {current['wind_kph']} km/h {current['wind_dir']}\\n\"\n",
        "        message += \"\\n📅 3-Day Forecast:\\n\"\n",
        "        for day in forecast:\n",
        "            message += f\"- {day['date']}: {day['day']['condition']['text']}, \"\n",
        "            message += f\"🌡️ {day['day']['maxtemp_c']}°C / {day['day']['mintemp_c']}°C, \"\n",
        "            message += f\"☔ Rain Chance: {day['day']['daily_chance_of_rain']}%\\n\"\n",
        "        return message\n",
        "\n",
        "    except Exception as e:\n",
        "        return f\"❌ Weather fetch failed: {str(e)}\"\n",
        "\n",
        "# ----- Attractions Tool -----\n",
        "@tool\n",
        "def get_tourist_attractions(city: str) -> str:\n",
        "    \"\"\"\n",
        "    Returns popular places to visit in a city using DuckDuckGo.\n",
        "    \"\"\"\n",
        "    try:\n",
        "        query = f\"Top tourist attractions in {city}\"\n",
        "        result = search_tool.run(query)\n",
        "        return f\"🏛️ Attractions in {city}:\\n\\n{result.strip()}\\n\\n✨ Travel Tips:\\n• Check opening times\\n• Use public transport\\n• Try local dishes!\"\n",
        "    except Exception as e:\n",
        "        return f\"❌ Attraction search failed: {str(e)}\"\n",
        "\n",
        "# ----- LangChain Agent Setup -----\n",
        "tools = [get_weather_forecast, get_tourist_attractions]\n",
        "\n",
        "prompt = ChatPromptTemplate.from_messages([\n",
        "    (\"system\", \"\"\"\n",
        "You are a friendly travel assistant 🌍\n",
        "\n",
        "Provide:\n",
        "- 🌤️ Weather info\n",
        "- 🏛️ Tourist attractions\n",
        "- ✨ Travel tips\n",
        "\n",
        "Use tools to answer accurately. Use emojis and organize info clearly.\n",
        "\"\"\"),\n",
        "    (\"user\", \"{input}\"),\n",
        "    (\"placeholder\", \"{agent_scratchpad}\")\n",
        "])\n",
        "\n",
        "agent = create_tool_calling_agent(llm, tools, prompt)\n",
        "agent_executor = AgentExecutor(agent=agent, tools=tools, verbose=False)\n",
        "\n",
        "# ----- Travel Assistant Logic -----\n",
        "def travel_assistant(city: str) -> str:\n",
        "    if not city.strip():\n",
        "        return \"⚠️ Please enter a city name.\"\n",
        "    try:\n",
        "        result = agent_executor.invoke({\"input\": city})\n",
        "        return result.get(\"output\", \"❌ Assistant did not return a response.\")\n",
        "    except Exception as e:\n",
        "        return f\"❌ Error processing your request: {str(e)}\"\n",
        "\n",
        "# ----- Gradio UI -----\n",
        "with gr.Blocks(theme=gr.themes.Soft()) as demo:\n",
        "    gr.Markdown(\"## ✈️ Travel Assistant\\nPlan your trip with live weather & top attractions!\")\n",
        "    city_input = gr.Textbox(label=\"Enter City\", placeholder=\"e.g., Rome, Tokyo, New York\")\n",
        "    submit_btn = gr.Button(\"Explore\")\n",
        "    result_box = gr.Textbox(label=\"Travel Information\", lines=20, interactive=False)\n",
        "    submit_btn.click(fn=travel_assistant, inputs=city_input, outputs=result_box)\n",
        "\n",
        "demo.launch()\n"
      ]
    }
  ]
}